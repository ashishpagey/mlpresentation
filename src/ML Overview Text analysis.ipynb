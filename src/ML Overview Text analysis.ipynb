{
 "cells": [
  {
   "cell_type": "markdown",
   "metadata": {},
   "source": [
    "# Making smarter apps with ML\n",
    "\n",
    "\n"
   ]
  },
  {
   "cell_type": "markdown",
   "metadata": {},
   "source": [
    "# Acquire data using Beautiful Soup\n",
    "Beautiful Soup provides a few simple methods and Pythonic idioms for navigating, searching, and modifying a parse tree: a toolkit for dissecting a document and extracting what you need. It doesn't take much code to write an application\n"
   ]
  },
  {
   "cell_type": "code",
   "execution_count": 1,
   "metadata": {},
   "outputs": [
    {
     "name": "stdout",
     "output_type": "stream",
     "text": [
      "[u\"Video Isn't The Thing That Will Make Twitter Inc (TWTR) Stock Worth\\xa0Owning\",\n",
      " u\"The Simple Reason I Still Won't Buy Twitter\\xa0Inc.\",\n",
      " u'Twitter Inc (NYSE:TWTR) HEFFX\\xa0Highlights',\n",
      " u\"Twitter Inc's Brain Drain\\xa0Continues\",\n",
      " u'Better Buy: Twitter, Inc. vs\\xa0Google',\n",
      " u'The Twitter Inc (TWTR) Stock Rally Is Just Getting\\xa0Started',\n",
      " u'\\nTwitter prototyping fake news flagging tool',\n",
      " u'Better Buy: Twitter, Inc. vs.\\xa0Baidu',\n",
      " u'Twitter Inc (TWTR) Stock Remains Hopelessly\\xa0Overvalued',\n",
      " u'\\nChecking the Overall Picture for Twitter, Inc. (TWTR)',\n",
      " u'\\nEPS for Twitter Inc (TWTR) Expected At $-0.11',\n",
      " u'Twitter: Take This Opportunity To\\xa0Sell',\n",
      " u\"Twitter Says Trump's WWE Tweet Attacking CNN Within the\\xa0Rules\",\n",
      " u'\\n2',\n",
      " u'\\n3',\n",
      " u'\\n4',\n",
      " u'\\n5',\n",
      " u'\\n6',\n",
      " u'\\n7',\n",
      " u'\\n8',\n",
      " u'\\n9',\n",
      " u'\\n10',\n",
      " u'Next']\n"
     ]
    }
   ],
   "source": [
    "import get_stock_news as getter\n",
    "import pprint as pp\n",
    "\n",
    "source_url = \"https://www.google.com/finance/company_news?q=NYSE%3ATWTR&ei=aXNVWfnGBd3a2AaHhKq4Dg\"\n",
    "\n",
    "headlines = getter.get_from_url(source_url)\n",
    "pp.pprint(headlines)"
   ]
  },
  {
   "cell_type": "markdown",
   "metadata": {},
   "source": [
    "## Analyzing Text with Textblob and NLTK"
   ]
  },
  {
   "cell_type": "code",
   "execution_count": 2,
   "metadata": {},
   "outputs": [
    {
     "name": "stdout",
     "output_type": "stream",
     "text": [
      "Sentiment(polarity=0.8, subjectivity=0.75)\n"
     ]
    }
   ],
   "source": [
    "from textblob import TextBlob\n",
    "\n",
    "first_sent = TextBlob(\"Jupyter notebooks are a great way to demo code.\")\n",
    "print(first_sent.sentiment)"
   ]
  },
  {
   "cell_type": "code",
   "execution_count": 3,
   "metadata": {},
   "outputs": [
    {
     "name": "stdout",
     "output_type": "stream",
     "text": [
      "Sentiment(polarity=0.21428571428571427, subjectivity=0.5)\n"
     ]
    }
   ],
   "source": [
    "neg_sent = TextBlob(\"I am unsure about quality of sentiment analysis purely based on rules.\")\n",
    "print(neg_sent.sentiment)"
   ]
  },
  {
   "cell_type": "code",
   "execution_count": 4,
   "metadata": {},
   "outputs": [
    {
     "name": "stdout",
     "output_type": "stream",
     "text": [
      "Sentiment(polarity=0.3, subjectivity=0.1)\n",
      "Sentiment(polarity=0.0, subjectivity=0.35714285714285715)\n",
      "Sentiment(polarity=0.0, subjectivity=0.0)\n",
      "Sentiment(polarity=0.0, subjectivity=0.0)\n",
      "Sentiment(polarity=0.5, subjectivity=0.5)\n",
      "Sentiment(polarity=0.0, subjectivity=0.0)\n",
      "Sentiment(polarity=-0.5, subjectivity=1.0)\n",
      "Sentiment(polarity=0.5, subjectivity=0.5)\n",
      "Sentiment(polarity=0.0, subjectivity=0.0)\n",
      "Sentiment(polarity=0.0, subjectivity=0.0)\n",
      "Sentiment(polarity=-0.1, subjectivity=0.4)\n",
      "Sentiment(polarity=0.0, subjectivity=0.0)\n",
      "Sentiment(polarity=0.0, subjectivity=0.0)\n",
      "Sentiment(polarity=0.0, subjectivity=0.0)\n",
      "Sentiment(polarity=0.0, subjectivity=0.0)\n",
      "Sentiment(polarity=0.0, subjectivity=0.0)\n",
      "Sentiment(polarity=0.0, subjectivity=0.0)\n",
      "Sentiment(polarity=0.0, subjectivity=0.0)\n",
      "Sentiment(polarity=0.0, subjectivity=0.0)\n",
      "Sentiment(polarity=0.0, subjectivity=0.0)\n",
      "Sentiment(polarity=0.0, subjectivity=0.0)\n",
      "Sentiment(polarity=0.0, subjectivity=0.0)\n",
      "Sentiment(polarity=0.0, subjectivity=0.0)\n"
     ]
    }
   ],
   "source": [
    "for line in headlines: \n",
    "    blob_line = TextBlob(line)\n",
    "    print(blob_line.sentiment)"
   ]
  },
  {
   "cell_type": "markdown",
   "metadata": {
    "collapsed": true
   },
   "source": []
  },
  {
   "cell_type": "markdown",
   "metadata": {},
   "source": [
    "# Hmm that's not quite enough\n",
    "Not much sentiment in those headlines eh. \n",
    "Lets try and train a model to get a little more of these headlines. \n"
   ]
  },
  {
   "cell_type": "code",
   "execution_count": 5,
   "metadata": {},
   "outputs": [
    {
     "name": "stdout",
     "output_type": "stream",
     "text": [
      "Most Informative Features\n",
      "            contains(Is) = True             sell : buy    =      3.5 : 1.0\n",
      "            contains(to) = True              buy : sell   =      2.9 : 1.0\n",
      "           contains(n't) = True             sell : hold   =      2.7 : 1.0\n",
      "           contains(For) = True             hold : buy    =      2.2 : 1.0\n",
      "         contains(Stock) = True             sell : hold   =      2.0 : 1.0\n",
      "          contains(NYSE) = True             hold : sell   =      1.8 : 1.0\n",
      "            contains(in) = True              buy : hold   =      1.8 : 1.0\n",
      "           contains(Inc) = False             buy : sell   =      1.7 : 1.0\n",
      "            contains(An) = True             sell : hold   =      1.6 : 1.0\n",
      "         contains(Short) = True             sell : hold   =      1.6 : 1.0\n",
      "None\n",
      "('Accuracy', 0.6470588235294118)\n"
     ]
    }
   ],
   "source": [
    "import stock_news_classifier as sncl\n",
    "\n",
    "cl = sncl.train_nb_v1()"
   ]
  },
  {
   "cell_type": "markdown",
   "metadata": {},
   "source": [
    "# Lets try the model on some more data"
   ]
  },
  {
   "cell_type": "code",
   "execution_count": 6,
   "metadata": {},
   "outputs": [
    {
     "name": "stdout",
     "output_type": "stream",
     "text": [
      "(u'Facebook Inc (FB) COB and CEO Mark Zuckerberg Sold $42.5 million of\\xa0Shares', u'buy')\n",
      "(u'\\nMark Zuckerberg Sells 140064 Shares of Facebook, Inc. (FB) Stock', u'buy')\n",
      "(u'\\nFacebook, Inc. (FB) CEO Sells $42500197.32 in Stock', u'buy')\n",
      "(u'Facebook Inc (FB) Premium Video May Not Be Ready for Prime\\xa0Time', u'hold')\n",
      "(u'Facebook, Inc. Nears 2 Billion\\xa0Users', u'hold')\n",
      "(u'\\nCEO Zuckerberg Tweaks Facebook Mission to Focus on Groups', u'buy')\n",
      "(u'\\nFacebook Inc (NASDAQ:FB) Very Close To Achieve Two Billion Users', u'buy')\n",
      "(u'Facebook Inc: Use This Dip To Buy Into FB\\xa0Stock', u'buy')\n",
      "(u'\\nFacebook INC (FB) Stake Maintained by Factory Mutual Insurance Company', u'buy')\n",
      "(u'\\nFacebook INC (FB) Holder Factory Mutual Insurance Company Has Increased Position', u'buy')\n",
      "(u\"Facebook, Inc. Hits 2 Billion Users -- But It Won't Stop\\xa0There\", u'hold')\n",
      "(u'\\nFacebook: 2 Billion Users and Counting', u'hold')\n",
      "(u'\\nFacebook Hits 2 Billion-User Mark, Doubling in Size Since 2012', u'hold')\n",
      "(u'Facebook fights US gag order that it says chills free\\xa0speech', u'buy')\n",
      "(u'Facebook Inc (FB) Uses Fake News To Change Mission\\xa0Forever', u'buy')\n",
      "(u'\\nFacebook Inc (FB) Fights The Feds Over User Data Requests', u'buy')\n",
      "(u'\\nFacebook Inc (NASDAQ:FB) to challenge gag order from US court, as free ...', u'buy')\n",
      "(u'How Will Facebook Inc (FB) Stock Face \\u201cPeak Original\\xa0Content\\u201d?', u'buy')\n",
      "(u'Facebook Inc Stock: Rising Challenges, But Still A Good\\xa0Buy', u'buy')\n",
      "(u'Better Buy: Facebook, Inc. vs. Line\\xa0Corp', u'buy')\n",
      "(u'\\n2', u'hold')\n",
      "(u'\\n3', u'hold')\n",
      "(u'\\n4', u'hold')\n",
      "(u'\\n5', u'hold')\n",
      "(u'\\n6', u'hold')\n",
      "(u'\\n7', u'hold')\n",
      "(u'\\n8', u'hold')\n",
      "(u'\\n9', u'hold')\n",
      "(u'\\n10', u'hold')\n",
      "(u'Next', u'hold')\n"
     ]
    }
   ],
   "source": [
    "fb_news_url = \"https://www.google.com/finance/company_news?q=NASDAQ%3AFB&ei=TYRVWcCOEN3a2AaHhKq4Dg\"\n",
    "fb_headlines = getter.get_from_url(fb_news_url)\n",
    "\n",
    "for line in fb_headlines:\n",
    "    print(line, cl.classify(line))"
   ]
  },
  {
   "cell_type": "markdown",
   "metadata": {},
   "source": [
    "# Lemme tize it\n",
    "Cleaning up training and text to be classified generally improves accuracy. \n",
    "Typical cleanup includes\n",
    "* stop word removal\n",
    "* lemmatization\n",
    "* case conversion"
   ]
  },
  {
   "cell_type": "code",
   "execution_count": 7,
   "metadata": {},
   "outputs": [
    {
     "name": "stdout",
     "output_type": "stream",
     "text": [
      "question ?\n",
      "quick brown fox jumped fence\n"
     ]
    }
   ],
   "source": [
    "print(sncl.preprocessing(\"To be or not to be those are the questions?\"))\n",
    "print(sncl.preprocessing(\"The quick brown foxes jumped over the fences\"))"
   ]
  },
  {
   "cell_type": "markdown",
   "metadata": {},
   "source": [
    "# Same model with cleaner text"
   ]
  },
  {
   "cell_type": "code",
   "execution_count": 8,
   "metadata": {},
   "outputs": [
    {
     "name": "stdout",
     "output_type": "stream",
     "text": [
      "Most Informative Features\n",
      "        contains(needle) = True             sell : buy    =      2.7 : 1.0\n",
      "           contains(buy) = True              buy : hold   =      2.0 : 1.0\n",
      "           contains(hit) = True             sell : hold   =      2.0 : 1.0\n",
      "      contains(interest) = True             sell : hold   =      2.0 : 1.0\n",
      "         contains(stock) = True             sell : hold   =      2.0 : 1.0\n",
      "         contains(alert) = True             sell : hold   =      2.0 : 1.0\n",
      "         contains(short) = True             sell : hold   =      2.0 : 1.0\n",
      "          contains(nyse) = True             hold : buy    =      1.9 : 1.0\n",
      "        contains(moving) = True             sell : buy    =      1.6 : 1.0\n",
      "          contains(vetr) = True             sell : buy    =      1.6 : 1.0\n",
      "None\n",
      "('Accuracy', 0.625)\n"
     ]
    }
   ],
   "source": [
    "cl = sncl.train_nb_v2()"
   ]
  },
  {
   "cell_type": "code",
   "execution_count": 9,
   "metadata": {},
   "outputs": [
    {
     "name": "stdout",
     "output_type": "stream",
     "text": [
      "(u'Facebook Inc (FB) COB and CEO Mark Zuckerberg Sold $42.5 million of\\xa0Shares', u'buy')\n",
      "(u'\\nMark Zuckerberg Sells 140064 Shares of Facebook, Inc. (FB) Stock', u'hold')\n",
      "(u'\\nFacebook, Inc. (FB) CEO Sells $42500197.32 in Stock', u'buy')\n",
      "(u'Facebook Inc (FB) Premium Video May Not Be Ready for Prime\\xa0Time', u'hold')\n",
      "(u'Facebook, Inc. Nears 2 Billion\\xa0Users', u'hold')\n",
      "(u'\\nCEO Zuckerberg Tweaks Facebook Mission to Focus on Groups', u'hold')\n",
      "(u'\\nFacebook Inc (NASDAQ:FB) Very Close To Achieve Two Billion Users', u'buy')\n",
      "(u'Facebook Inc: Use This Dip To Buy Into FB\\xa0Stock', u'buy')\n",
      "(u'\\nFacebook INC (FB) Stake Maintained by Factory Mutual Insurance Company', u'buy')\n",
      "(u'\\nFacebook INC (FB) Holder Factory Mutual Insurance Company Has Increased Position', u'buy')\n",
      "(u\"Facebook, Inc. Hits 2 Billion Users -- But It Won't Stop\\xa0There\", u'hold')\n",
      "(u'\\nFacebook: 2 Billion Users and Counting', u'hold')\n",
      "(u'\\nFacebook Hits 2 Billion-User Mark, Doubling in Size Since 2012', u'hold')\n",
      "(u'Facebook fights US gag order that it says chills free\\xa0speech', u'hold')\n",
      "(u'Facebook Inc (FB) Uses Fake News To Change Mission\\xa0Forever', u'buy')\n",
      "(u'\\nFacebook Inc (FB) Fights The Feds Over User Data Requests', u'hold')\n",
      "(u'\\nFacebook Inc (NASDAQ:FB) to challenge gag order from US court, as free ...', u'buy')\n",
      "(u'How Will Facebook Inc (FB) Stock Face \\u201cPeak Original\\xa0Content\\u201d?', u'buy')\n",
      "(u'Facebook Inc Stock: Rising Challenges, But Still A Good\\xa0Buy', u'buy')\n",
      "(u'Better Buy: Facebook, Inc. vs. Line\\xa0Corp', u'buy')\n",
      "(u'\\n2', u'hold')\n",
      "(u'\\n3', u'hold')\n",
      "(u'\\n4', u'buy')\n",
      "(u'\\n5', u'hold')\n",
      "(u'\\n6', u'hold')\n",
      "(u'\\n7', u'hold')\n",
      "(u'\\n8', u'hold')\n",
      "(u'\\n9', u'hold')\n",
      "(u'\\n10', u'hold')\n",
      "(u'Next', u'hold')\n"
     ]
    }
   ],
   "source": [
    "for line in fb_headlines:\n",
    "    print(line, cl.classify(sncl.preprocessing(line)))"
   ]
  },
  {
   "cell_type": "markdown",
   "metadata": {},
   "source": [
    "# Decision Tree instead of Naives Bayes\n"
   ]
  },
  {
   "cell_type": "code",
   "execution_count": 10,
   "metadata": {},
   "outputs": [
    {
     "name": "stdout",
     "output_type": "stream",
     "text": [
      "('Accuracy', 1.0)\n"
     ]
    }
   ],
   "source": [
    "cl = sncl.train_dtree_v2()"
   ]
  },
  {
   "cell_type": "markdown",
   "metadata": {},
   "source": [
    "# Sometimes perfect is not a good thing\n",
    "Ok so the model above turns out to have an accuracy of 1.0 which means it classified everything in the test data set correctly. Normally this would be a good thing. But in the early stages of training an ML model a perfect or very high score is a sure sign that something is wrong. High scores early on mean that the model is 'overfitting'. Which means it is picking up on some random noise that might be present equally in the training and test data set vs. picking up on true signals that matter. \n",
    "There are many pausible causes for this but a good place to start is to check your training & test data-set and increase the volume and variety of one or both. \n",
    "Ok that said lets see how the 'perfect' model does on real data set. "
   ]
  },
  {
   "cell_type": "code",
   "execution_count": 11,
   "metadata": {},
   "outputs": [
    {
     "name": "stdout",
     "output_type": "stream",
     "text": [
      "(u'Facebook Inc (FB) COB and CEO Mark Zuckerberg Sold $42.5 million of\\xa0Shares', u'buy')\n",
      "(u'\\nMark Zuckerberg Sells 140064 Shares of Facebook, Inc. (FB) Stock', u'sell')\n",
      "(u'\\nFacebook, Inc. (FB) CEO Sells $42500197.32 in Stock', u'sell')\n",
      "(u'Facebook Inc (FB) Premium Video May Not Be Ready for Prime\\xa0Time', u'buy')\n",
      "(u'Facebook, Inc. Nears 2 Billion\\xa0Users', u'buy')\n",
      "(u'\\nCEO Zuckerberg Tweaks Facebook Mission to Focus on Groups', u'buy')\n",
      "(u'\\nFacebook Inc (NASDAQ:FB) Very Close To Achieve Two Billion Users', u'buy')\n",
      "(u'Facebook Inc: Use This Dip To Buy Into FB\\xa0Stock', u'buy')\n",
      "(u'\\nFacebook INC (FB) Stake Maintained by Factory Mutual Insurance Company', u'buy')\n",
      "(u'\\nFacebook INC (FB) Holder Factory Mutual Insurance Company Has Increased Position', u'buy')\n",
      "(u\"Facebook, Inc. Hits 2 Billion Users -- But It Won't Stop\\xa0There\", u'hold')\n",
      "(u'\\nFacebook: 2 Billion Users and Counting', u'buy')\n",
      "(u'\\nFacebook Hits 2 Billion-User Mark, Doubling in Size Since 2012', u'hold')\n",
      "(u'Facebook fights US gag order that it says chills free\\xa0speech', u'buy')\n",
      "(u'Facebook Inc (FB) Uses Fake News To Change Mission\\xa0Forever', u'buy')\n",
      "(u'\\nFacebook Inc (FB) Fights The Feds Over User Data Requests', u'buy')\n",
      "(u'\\nFacebook Inc (NASDAQ:FB) to challenge gag order from US court, as free ...', u'buy')\n",
      "(u'How Will Facebook Inc (FB) Stock Face \\u201cPeak Original\\xa0Content\\u201d?', u'buy')\n",
      "(u'Facebook Inc Stock: Rising Challenges, But Still A Good\\xa0Buy', u'buy')\n",
      "(u'Better Buy: Facebook, Inc. vs. Line\\xa0Corp', u'buy')\n",
      "(u'\\n2', u'buy')\n",
      "(u'\\n3', u'buy')\n",
      "(u'\\n4', u'buy')\n",
      "(u'\\n5', u'buy')\n",
      "(u'\\n6', u'buy')\n",
      "(u'\\n7', u'buy')\n",
      "(u'\\n8', u'buy')\n",
      "(u'\\n9', u'buy')\n",
      "(u'\\n10', u'buy')\n",
      "(u'Next', u'buy')\n"
     ]
    }
   ],
   "source": [
    "for line in fb_headlines:\n",
    "    print(line, cl.classify(sncl.preprocessing(line)))"
   ]
  },
  {
   "cell_type": "markdown",
   "metadata": {},
   "source": [
    "# Conclusion\n",
    "So the neither model is quite at the point where you can bet even $10 on it. Which is to be expected since it is operating on a very small training data set (< 100 samples) and the classification model is using default parameters. \n",
    "Lets head back to the PPT to see what steps can help improve the model\n"
   ]
  },
  {
   "cell_type": "code",
   "execution_count": null,
   "metadata": {
    "collapsed": true
   },
   "outputs": [],
   "source": []
  }
 ],
 "metadata": {
  "kernelspec": {
   "display_name": "Python 2",
   "language": "python",
   "name": "python2"
  },
  "language_info": {
   "codemirror_mode": {
    "name": "ipython",
    "version": 2
   },
   "file_extension": ".py",
   "mimetype": "text/x-python",
   "name": "python",
   "nbconvert_exporter": "python",
   "pygments_lexer": "ipython2",
   "version": "2.7.13"
  }
 },
 "nbformat": 4,
 "nbformat_minor": 2
}
